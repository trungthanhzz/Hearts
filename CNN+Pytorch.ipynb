{
  "nbformat": 4,
  "nbformat_minor": 0,
  "metadata": {
    "colab": {
      "provenance": [],
      "toc_visible": true,
      "gpuType": "T4",
      "authorship_tag": "ABX9TyOTJ97f8kmLsFHgdDmUTEc2",
      "include_colab_link": true
    },
    "kernelspec": {
      "name": "python3",
      "display_name": "Python 3"
    },
    "language_info": {
      "name": "python"
    },
    "accelerator": "GPU"
  },
  "cells": [
    {
      "cell_type": "markdown",
      "metadata": {
        "id": "view-in-github",
        "colab_type": "text"
      },
      "source": [
        "<a href=\"https://colab.research.google.com/github/trungthanhzz/Hearts/blob/main/CNN%2BPytorch.ipynb\" target=\"_parent\"><img src=\"https://colab.research.google.com/assets/colab-badge.svg\" alt=\"Open In Colab\"/></a>"
      ]
    },
    {
      "cell_type": "markdown",
      "source": [
        "# Cơ bản về Pytorch"
      ],
      "metadata": {
        "id": "Rxw8HF5cjQOc"
      }
    },
    {
      "cell_type": "code",
      "source": [
        "!pip install torch torchvision\n"
      ],
      "metadata": {
        "colab": {
          "base_uri": "https://localhost:8080/"
        },
        "id": "HUpE6BMOuI99",
        "outputId": "e4759ceb-4b0d-45f8-f5a2-dfdaf11dc98d"
      },
      "execution_count": null,
      "outputs": [
        {
          "output_type": "stream",
          "name": "stdout",
          "text": [
            "Requirement already satisfied: torch in /usr/local/lib/python3.10/dist-packages (2.0.1+cu118)\n",
            "Requirement already satisfied: torchvision in /usr/local/lib/python3.10/dist-packages (0.15.2+cu118)\n",
            "Requirement already satisfied: filelock in /usr/local/lib/python3.10/dist-packages (from torch) (3.12.2)\n",
            "Requirement already satisfied: typing-extensions in /usr/local/lib/python3.10/dist-packages (from torch) (4.7.1)\n",
            "Requirement already satisfied: sympy in /usr/local/lib/python3.10/dist-packages (from torch) (1.11.1)\n",
            "Requirement already satisfied: networkx in /usr/local/lib/python3.10/dist-packages (from torch) (3.1)\n",
            "Requirement already satisfied: jinja2 in /usr/local/lib/python3.10/dist-packages (from torch) (3.1.2)\n",
            "Requirement already satisfied: triton==2.0.0 in /usr/local/lib/python3.10/dist-packages (from torch) (2.0.0)\n",
            "Requirement already satisfied: cmake in /usr/local/lib/python3.10/dist-packages (from triton==2.0.0->torch) (3.25.2)\n",
            "Requirement already satisfied: lit in /usr/local/lib/python3.10/dist-packages (from triton==2.0.0->torch) (16.0.6)\n",
            "Requirement already satisfied: numpy in /usr/local/lib/python3.10/dist-packages (from torchvision) (1.22.4)\n",
            "Requirement already satisfied: requests in /usr/local/lib/python3.10/dist-packages (from torchvision) (2.27.1)\n",
            "Requirement already satisfied: pillow!=8.3.*,>=5.3.0 in /usr/local/lib/python3.10/dist-packages (from torchvision) (8.4.0)\n",
            "Requirement already satisfied: MarkupSafe>=2.0 in /usr/local/lib/python3.10/dist-packages (from jinja2->torch) (2.1.3)\n",
            "Requirement already satisfied: urllib3<1.27,>=1.21.1 in /usr/local/lib/python3.10/dist-packages (from requests->torchvision) (1.26.16)\n",
            "Requirement already satisfied: certifi>=2017.4.17 in /usr/local/lib/python3.10/dist-packages (from requests->torchvision) (2023.5.7)\n",
            "Requirement already satisfied: charset-normalizer~=2.0.0 in /usr/local/lib/python3.10/dist-packages (from requests->torchvision) (2.0.12)\n",
            "Requirement already satisfied: idna<4,>=2.5 in /usr/local/lib/python3.10/dist-packages (from requests->torchvision) (3.4)\n",
            "Requirement already satisfied: mpmath>=0.19 in /usr/local/lib/python3.10/dist-packages (from sympy->torch) (1.3.0)\n"
          ]
        }
      ]
    },
    {
      "cell_type": "markdown",
      "source": [
        "**Cơ bản về PyTorch**"
      ],
      "metadata": {
        "id": "MI_FAzOH5mCi"
      }
    },
    {
      "cell_type": "markdown",
      "source": [
        "1. **Tensor**"
      ],
      "metadata": {
        "id": "hlZxnbLZ7OIq"
      }
    },
    {
      "cell_type": "code",
      "source": [
        "import torch.nn as nn\n",
        "import torch.nn.functional as F\n",
        "from __future__ import print_function\n",
        "import torch\n",
        "\n",
        "# Khởi tạo một ma trận rỗng\n",
        "\n",
        "x = torch.empty(5, 3)\n",
        "print(x)\n"
      ],
      "metadata": {
        "colab": {
          "base_uri": "https://localhost:8080/"
        },
        "id": "I9CSPOWWuUVc",
        "outputId": "b131da74-8e5d-4a7a-e1a5-f8fef8688923"
      },
      "execution_count": null,
      "outputs": [
        {
          "output_type": "stream",
          "name": "stdout",
          "text": [
            "tensor([[1.5766e-19, 1.0256e-08, 1.0501e-05],\n",
            "        [3.1129e+12, 4.3356e-08, 1.6412e-07],\n",
            "        [2.6407e-06, 1.2752e+16, 2.1707e-18],\n",
            "        [7.0952e+22, 1.7748e+28, 1.8176e+31],\n",
            "        [7.2708e+31, 5.0778e+31, 3.2608e-12]])\n"
          ]
        }
      ]
    },
    {
      "cell_type": "code",
      "source": [
        "#Khởi tạo ma trận ngẫu nhiên\n",
        "x = torch.rand(5, 3)\n",
        "print(x)\n",
        "\n"
      ],
      "metadata": {
        "colab": {
          "base_uri": "https://localhost:8080/"
        },
        "id": "x9NbswHk5gHi",
        "outputId": "133b8893-02da-4ce9-b6a0-fd737ff46388"
      },
      "execution_count": null,
      "outputs": [
        {
          "output_type": "stream",
          "name": "stdout",
          "text": [
            "tensor([[0.5215, 0.3804, 0.8512],\n",
            "        [0.8595, 0.8815, 0.2180],\n",
            "        [0.3790, 0.2975, 0.4332],\n",
            "        [0.7931, 0.9075, 0.4202],\n",
            "        [0.7860, 0.6907, 0.3311]])\n"
          ]
        }
      ]
    },
    {
      "cell_type": "code",
      "source": [
        "#Khởi tạo ma trận với kiểu dữ liệu long\n",
        "x = torch.zeros(5,3,dtype=torch.long)\n",
        "print(x)"
      ],
      "metadata": {
        "colab": {
          "base_uri": "https://localhost:8080/"
        },
        "id": "t7v8G19O6PgB",
        "outputId": "6cd32f59-8bee-44e0-eb4f-a50fa3328aa0"
      },
      "execution_count": null,
      "outputs": [
        {
          "output_type": "stream",
          "name": "stdout",
          "text": [
            "tensor([[0, 0, 0],\n",
            "        [0, 0, 0],\n",
            "        [0, 0, 0],\n",
            "        [0, 0, 0],\n",
            "        [0, 0, 0]])\n"
          ]
        }
      ]
    },
    {
      "cell_type": "code",
      "source": [
        "#Khởi tạo ma trận từ list\n",
        "x = torch.tensor([5,3.5])\n",
        "print(x)"
      ],
      "metadata": {
        "colab": {
          "base_uri": "https://localhost:8080/"
        },
        "id": "sWqmJd1Y6nhi",
        "outputId": "96ca2179-7995-4546-912b-f15b2950cd29"
      },
      "execution_count": null,
      "outputs": [
        {
          "output_type": "stream",
          "name": "stdout",
          "text": [
            "tensor([5.0000, 3.5000])\n"
          ]
        }
      ]
    },
    {
      "cell_type": "code",
      "source": [
        "# Khởi tạo ma trận có các thuộc tính tương tự như của một ma trận sẵn có. Chẳng hạn như shape. Trừ khi thuộc tính mới được đưa vào override thuộc tính cũ.\n",
        "\n",
        "x = x.new_ones(5, 3, dtype = torch.double)\n",
        "print(x)\n"
      ],
      "metadata": {
        "colab": {
          "base_uri": "https://localhost:8080/"
        },
        "id": "Fpy_VC1j66aB",
        "outputId": "8ce18d95-bf40-4375-b440-78bb06514ad7"
      },
      "execution_count": null,
      "outputs": [
        {
          "output_type": "stream",
          "name": "stdout",
          "text": [
            "tensor([[1., 1., 1.],\n",
            "        [1., 1., 1.],\n",
            "        [1., 1., 1.],\n",
            "        [1., 1., 1.],\n",
            "        [1., 1., 1.]], dtype=torch.float64)\n"
          ]
        }
      ]
    },
    {
      "cell_type": "code",
      "source": [
        "x = torch.randn_like(x, dtype = torch.float) #override dtype\n",
        "# Ma trận mới được khởi tạo ngẫu nhiên có shape tương tự như ma trận cũ, dtype được override.\n",
        "print(x)\n"
      ],
      "metadata": {
        "colab": {
          "base_uri": "https://localhost:8080/"
        },
        "id": "rt4azn-X7BTx",
        "outputId": "0595a628-484d-4ff1-bf25-7e011db51626"
      },
      "execution_count": null,
      "outputs": [
        {
          "output_type": "stream",
          "name": "stdout",
          "text": [
            "tensor([[-0.3712,  0.3124,  1.1631],\n",
            "        [ 0.5121,  0.1689,  0.0909],\n",
            "        [-1.2722, -0.7893,  0.1233],\n",
            "        [ 1.3247,  0.8948, -0.3499],\n",
            "        [ 1.5640, -2.1661,  0.1461]])\n"
          ]
        }
      ]
    },
    {
      "cell_type": "markdown",
      "source": [
        "2. **Operations**\n"
      ],
      "metadata": {
        "id": "VzGaaWqh7TSS"
      }
    },
    {
      "cell_type": "markdown",
      "source": [
        "# Xây dựng mạng CNN"
      ],
      "metadata": {
        "id": "988X0nuCjbB0"
      }
    },
    {
      "cell_type": "markdown",
      "source": [
        "Xây dựng mạng neural network sẽ trải qua các bước sau:\n",
        "\n",
        "- Xây dựng kiến trúc mạng nơ ron.\n",
        "- Phân chia dữ liệu train, test.\n",
        "- Xác định phương pháp optimization để cập nhật gradient descent và hàm loss function.\n",
        "- Huấn luyện model.\n",
        "- Hậu kiểm model.\n"
      ],
      "metadata": {
        "id": "hgwNtqsqUcg2"
      }
    },
    {
      "cell_type": "markdown",
      "source": [
        "Để xây dựng mạng neural chúng ta sẽ kế thừa object `nn.Module`. Object này sẽ cho phép thực hiện quá trình lan truyền thuận và lan truyền ngược thông qua 2 hàm `forward()` và `backward()`.\n",
        "\n"
      ],
      "metadata": {
        "id": "RcboBXYVUnT-"
      }
    },
    {
      "cell_type": "code",
      "source": [
        "import torch\n",
        "import torch.nn as nn\n",
        "import torch.nn.functional as F\n",
        "\n",
        "class Net(nn.Module):\n",
        "  def __init__(self):\n",
        "    super(Net,self).__init__()\n",
        "    # 1 kênh đầu vào, 6 kênh đầu ra, tích chập 3x3\n",
        "    # kernel\n",
        "    # conv2d (input chanels, output chanels, kernel size)\n",
        "    self.conv1 = nn.Conv2d(1, 6, 3)\n",
        "    self.conv2 = nn.Conv2d(6, 16, 3)\n",
        "    # an affine operation: y = Wx + b\n",
        "    self.fc1 = nn.Linear(16 * 6 * 6, 120)  # 6*6 from image dimension\n",
        "    self.fc2 = nn.Linear(120, 84)\n",
        "    self.fc3 = nn.Linear(84, 10)\n",
        "\n",
        "  def forward(self, x):\n",
        "    # Max pooling over a (2, 2) window\n",
        "    x = F.max_pool2d(F.relu(self.conv1(x)), (2,2))\n",
        "    # If the size is a square you can only specify a single number\n",
        "    x = F.max_pool2d(F.relu(self.conv2(x)), 2)\n",
        "    x = x.view(-1, self.num_flat_features(x))\n",
        "    x = F.relu(self.fc1(x))\n",
        "    x = F.relu(self.fc2(x))\n",
        "    x = self.fc3(x)\n",
        "    return x\n",
        "\n",
        "  def num_flat_features(self, x):\n",
        "    size = x.size()[1:]  # all dimensions except the batch dimension\n",
        "    num_features = 1\n",
        "    for s in size:\n",
        "      num_features *= s\n",
        "    return num_features\n",
        "\n",
        "net = Net()\n",
        "print(net)\n",
        "input = torch.randn(1, 1, 32, 32)\n",
        "out = net(input)\n",
        "print(out)\n",
        "\n",
        "net.zero_grad()\n",
        "out.backward(torch.randn(1, 10))\n",
        "\n",
        "\n",
        "\n",
        "\n"
      ],
      "metadata": {
        "colab": {
          "base_uri": "https://localhost:8080/"
        },
        "id": "RU4yR72eUta8",
        "outputId": "3abaaccf-db77-4c8e-936b-002cdf798e6f"
      },
      "execution_count": null,
      "outputs": [
        {
          "output_type": "stream",
          "name": "stdout",
          "text": [
            "Net(\n",
            "  (conv1): Conv2d(1, 6, kernel_size=(3, 3), stride=(1, 1))\n",
            "  (conv2): Conv2d(6, 16, kernel_size=(3, 3), stride=(1, 1))\n",
            "  (fc1): Linear(in_features=576, out_features=120, bias=True)\n",
            "  (fc2): Linear(in_features=120, out_features=84, bias=True)\n",
            "  (fc3): Linear(in_features=84, out_features=10, bias=True)\n",
            ")\n",
            "tensor([[ 0.1263,  0.0081, -0.0321,  0.1126, -0.0316, -0.1250,  0.1947,  0.0579,\n",
            "          0.0462,  0.0331]], grad_fn=<AddmmBackward0>)\n"
          ]
        }
      ]
    },
    {
      "cell_type": "markdown",
      "source": [
        "# Mnist Dataset\n"
      ],
      "metadata": {
        "id": "uZuvbFNRjgib"
      }
    },
    {
      "cell_type": "markdown",
      "source": [
        "Mnist là dữ liệu số viết tay"
      ],
      "metadata": {
        "id": "Pl4XUdRLjjbi"
      }
    },
    {
      "cell_type": "markdown",
      "source": [],
      "metadata": {
        "id": "BhmnwVMMmVn_"
      }
    }
  ]
}